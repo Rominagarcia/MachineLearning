{
 "cells": [
  {
   "attachments": {},
   "cell_type": "markdown",
   "metadata": {},
   "source": [
    "# Modelo de Machine Learning de Similaridad de coseno"
   ]
  },
  {
   "cell_type": "code",
   "execution_count": 1,
   "metadata": {},
   "outputs": [],
   "source": [
    "import pandas as pd\n",
    "import numpy as np\n",
    "from sklearn.feature_extraction.text import TfidfVectorizer\n",
    "from sklearn.metrics.pairwise import cosine_similarity\n",
    "from sklearn.preprocessing import MinMaxScaler"
   ]
  },
  {
   "cell_type": "code",
   "execution_count": null,
   "metadata": {},
   "outputs": [],
   "source": [
    "from sklearn.metrics.pairwise import cosine_similarity\n",
    "data = pd.read_csv(\"/Users/romina/Desktop/Datasets/peliculas_ml.csv\", low_memory=False)  \n",
    "\n",
    "#Recorto el Dataframe para poder aplicar el modelo\n",
    "n=1000 \n",
    "datos = data.head(n)\n",
    "\n",
    "#Alimento la variable X con los nombre de las columnas para poder aplicar el modelo\n",
    "X = datos[['belongs_to_collection', 'genres', 'original_language', \"popularity\", \"production_companies\", \"release_date\", \"status\", \"vote_average\", \"return\"]] \n",
    "\n",
    "# Aplico el modelo de Machine Learning de similaridad del coseno ###### \n",
    "matris = cosine_similarity(X)\n",
    "\n",
    "#Recomendacion >> Funcion en donde obtengo el indice del titulo segun el parametro luego obtengo los indices de peliculas similares ######\n",
    "#Finalmente busco en el dataframe el titulo de las peliculas similares y las retorno para visualizarlas en una lista ######\n",
    "#@app.get('/recomendacion/{titulo:str}')\n",
    "def get_recomendacion(titulo):\n",
    "    '''Funcion de Machine Learning donde se carga un titulo de una pelicula y el algoritmo te recomienda 5 titulos similares '''\n",
    "    top_n=5\n",
    "    indice_titulo = data[data['title'] == titulo].index[0]  \n",
    "    resultado_matris = matris[indice_titulo]\n",
    "    indices = resultado_matris.argsort()[-top_n-1:-1][::-1]  \n",
    "    recomendacion = data.loc[indices,\"title\"]  \n",
    "    recomendacion = recomendacion.values.tolist()\n",
    "    return {'lista recomendada': str(recomendacion)}"
   ]
  }
 ],
 "metadata": {
  "kernelspec": {
   "display_name": "Python 3",
   "language": "python",
   "name": "python3"
  },
  "language_info": {
   "codemirror_mode": {
    "name": "ipython",
    "version": 3
   },
   "file_extension": ".py",
   "mimetype": "text/x-python",
   "name": "python",
   "nbconvert_exporter": "python",
   "pygments_lexer": "ipython3",
   "version": "3.8.10"
  },
  "orig_nbformat": 4
 },
 "nbformat": 4,
 "nbformat_minor": 2
}
